{
 "cells": [
  {
   "cell_type": "markdown",
   "id": "e63803aa",
   "metadata": {},
   "source": [
    "### Быстрое возведение в степень a^n mod m"
   ]
  },
  {
   "cell_type": "code",
   "execution_count": 1,
   "id": "70e859c5",
   "metadata": {},
   "outputs": [],
   "source": [
    "def power(a, n, m, k = 0):\n",
    "    if n == 0:\n",
    "        return 1\n",
    "    if n == 1:\n",
    "        return a\n",
    "    else:\n",
    "        p = 1\n",
    "        ak = a\n",
    "        i = n\n",
    "        while True:\n",
    "            k += 1\n",
    "            s = i% 2\n",
    "            if s == 1:\n",
    "                p = (p*ak) % m\n",
    "            # print(f\"{k = }; {ak = }; {i = }; {s = }; {p = }\")\n",
    "            ak = (ak * ak)  % m\n",
    "            i = (i-s)/2\n",
    "            if i <= 0:\n",
    "                break\n",
    "        return p"
   ]
  },
  {
   "cell_type": "markdown",
   "id": "bb921cd2",
   "metadata": {},
   "source": [
    "### Расширенный алгоритм Евклида \n",
    "находит помимо НОД также коэффициенты x и y такие, что:\n",
    "\n",
    "a*x + b*y = gcd(a, b)."
   ]
  },
  {
   "cell_type": "code",
   "execution_count": 2,
   "id": "3a4715e0",
   "metadata": {},
   "outputs": [],
   "source": [
    "def evklid(a,b):\n",
    "    if b == 0:\n",
    "        return a, 1, 0\n",
    "    gcd, x1, y1 = evklid(b, a%b)\n",
    "    x = y1\n",
    "    y = x1 - (a//b)*y1\n",
    "    return gcd, x, y"
   ]
  },
  {
   "cell_type": "code",
   "execution_count": 3,
   "id": "04b10c55",
   "metadata": {},
   "outputs": [
    {
     "data": {
      "text/plain": [
       "(10, 1, -1)"
      ]
     },
     "execution_count": 3,
     "metadata": {},
     "output_type": "execute_result"
    }
   ],
   "source": [
    "evklid(30,20)"
   ]
  },
  {
   "cell_type": "markdown",
   "id": "3af9f204",
   "metadata": {},
   "source": [
    "### Фактор ферма"
   ]
  },
  {
   "cell_type": "code",
   "execution_count": 4,
   "id": "a8e5da7c",
   "metadata": {},
   "outputs": [],
   "source": [
    "from math import sqrt\n",
    "def factorFerma(n, k = 1000):\n",
    "    m = int(sqrt(n)) - 1\n",
    "    m = m + (m % 2 - 1)\n",
    "    for i in range(m, m + k + 1, 2):\n",
    "        if n % i == 0:\n",
    "            return i"
   ]
  },
  {
   "cell_type": "code",
   "execution_count": 5,
   "id": "e6a7449b",
   "metadata": {},
   "outputs": [],
   "source": [
    "n = 8816842443\n",
    "factorFerma(n)"
   ]
  },
  {
   "cell_type": "markdown",
   "id": "f8955404",
   "metadata": {},
   "source": [
    "### Схема Диффи-Хеллмана"
   ]
  },
  {
   "cell_type": "code",
   "execution_count": 6,
   "id": "f3df477e",
   "metadata": {},
   "outputs": [],
   "source": [
    "def generatePervoobrazKoren(p):\n",
    "    phi = n = p-1\n",
    "    i = 2\n",
    "    fact = []\n",
    "    while i**2 <= n:\n",
    "        if n % i == 0:\n",
    "            fact.append(i)\n",
    "            while n%i == 0:\n",
    "                n /= i\n",
    "        i += 1\n",
    "    if n>1:\n",
    "        fact.append(n)\n",
    "    for res in range(2, p+1):\n",
    "        flag = True\n",
    "        for i in range(0, len(fact)):\n",
    "            r = power(res, phi/fact[i], p)\n",
    "            print(res, r)\n",
    "            if r != 1:\n",
    "                flag = False\n",
    "            if flag:\n",
    "                return res\n",
    "    return -1\n",
    "        \n",
    "def diffHill():\n",
    "    a = randint(10**3,10**5)\n",
    "    p = gen22(10)\n",
    "    #g = "
   ]
  },
  {
   "cell_type": "code",
   "execution_count": 7,
   "id": "1bb3ae24",
   "metadata": {},
   "outputs": [
    {
     "name": "stdout",
     "output_type": "stream",
     "text": [
      "2 1\n"
     ]
    },
    {
     "data": {
      "text/plain": [
       "2"
      ]
     },
     "execution_count": 7,
     "metadata": {},
     "output_type": "execute_result"
    }
   ],
   "source": [
    "generatePervoobrazKoren(7)"
   ]
  },
  {
   "cell_type": "markdown",
   "id": "6a82826d",
   "metadata": {},
   "source": [
    "### Алгоритм Lehmann для проверки числа 'p' на простоту\n",
    "1. Выберите случайное целое число «a» из диапазона (2, p-1).\n",
    "\n",
    "2. Вычислите «x» как a^((p-1)/2) mod p.\n",
    "\n",
    "3. Если «x» соответствует 1 по модулю «p» или «x» соответствует -1 по модулю «p», то «p», скорее всего, простое.\n",
    "\n",
    "4. Повторите шаги 1–3 для достаточного числа случайных выборов «а» (например, нескольких итераций).\n",
    "\n",
    "5. Если 'p' соответствует условиям сравнения на всех итерациях, он считается, скорее всего, простым. В противном случае оно является составным.\n",
    "\n",
    "\n",
    "    ###### вероятность ошибки (1/2)^iterat"
   ]
  },
  {
   "cell_type": "code",
   "execution_count": 8,
   "id": "4be98688",
   "metadata": {},
   "outputs": [],
   "source": [
    "from random import randint\n",
    "def lehmann(p, iterat=20):\n",
    "    if p % 2 == 0:\n",
    "        return False\n",
    "    for _ in range(iterat):\n",
    "        a = randint(2, p-1)\n",
    "        if power(a, int((p-1)/2), p) not in (-1%p, 1):\n",
    "            return False\n",
    "    return True"
   ]
  },
  {
   "cell_type": "code",
   "execution_count": 9,
   "id": "c1aaf4d4",
   "metadata": {},
   "outputs": [
    {
     "data": {
      "text/plain": [
       "True"
      ]
     },
     "execution_count": 9,
     "metadata": {},
     "output_type": "execute_result"
    }
   ],
   "source": [
    "lehmann(2027)"
   ]
  },
  {
   "cell_type": "markdown",
   "id": "be53345f",
   "metadata": {},
   "source": [
    "### Алгоритм Rabin-Miller для проверки числа 'p' на простоту \n",
    "1. Вычислите b - число делений p-1 на 2\n",
    "\n",
    "2. Вычислите m, такое что p = 1 + 2^b * m\n",
    "\n",
    "3. Выберите случайное целое число «a» из диапазона (2, p-1).\n",
    "\n",
    "4. Вычислите z как  a^m mod p.\n",
    "\n",
    "5. Если «z» соответствует 1 по модулю «p» или «x» соответствует -1 по модулю «p», то «p», скорее всего, простое.\n",
    "\n",
    "6. Повторите шаги 3–5 для достаточного числа случайных выборов «а» (например, нескольких итераций).\n",
    "\n",
    "7. Если 'p' соответствует условиям сравнения на всех итерациях, он считается, скорее всего, простым. В противном случае оно является составным.\n",
    "    \n",
    "    ###### вероятность ошибки (1/4)^iterat"
   ]
  },
  {
   "cell_type": "code",
   "execution_count": 10,
   "id": "42865b85",
   "metadata": {},
   "outputs": [],
   "source": [
    "from random import randint\n",
    "def rabinMiller(p, iterat=20):\n",
    "    if p % 2 == 0:\n",
    "        return False\n",
    "    b, m = 0, p-1\n",
    "    while m % 2 == 0:\n",
    "        b += 1\n",
    "        m //= 2\n",
    "    for _ in range(iterat):\n",
    "        a = randint(2, p-1)\n",
    "        if power(a, m, p) not in (-1%p, 1):\n",
    "            return False\n",
    "    return True\n",
    "    "
   ]
  },
  {
   "cell_type": "code",
   "execution_count": 11,
   "id": "4249d796",
   "metadata": {},
   "outputs": [
    {
     "data": {
      "text/plain": [
       "False"
      ]
     },
     "execution_count": 11,
     "metadata": {},
     "output_type": "execute_result"
    }
   ],
   "source": [
    "rabinMiller(2023)"
   ]
  },
  {
   "cell_type": "markdown",
   "id": "0e4597e8",
   "metadata": {},
   "source": [
    "### Генерация простых n-битовых чисел\n",
    "\n",
    "1. Сгенерируйте случайное n-битовое число p.\n",
    "2. Установите старший и сладший биты равными 1.\n",
    "3. Убедитесь что число не делится на простые числа до 256\n",
    "4. Выполните тест Rabin-Miller\n",
    "5. Если 3 или 4 не выполняются, то вернуться к шагу 1\n"
   ]
  },
  {
   "cell_type": "code",
   "execution_count": 12,
   "id": "4e7f1c3b",
   "metadata": {},
   "outputs": [],
   "source": [
    "# from random import randint\n",
    "# from math import sqrt\n",
    "# def prost(n):\n",
    "#     for i in range(3, int(sqrt(n))+1, 2):\n",
    "#         if n % i == 0:\n",
    "#             return False\n",
    "#     return True\n",
    "# mas_prost = [i for i in range(3, 256, 2) if prost(i)]\n",
    "# def gen(n):\n",
    "#     # p = bin(randint(pow(2, n-1), pow(2, n)-1))[2:]\n",
    "#     p = \"1\"\n",
    "#     for i in range(n-1):\n",
    "#         p = p + str(randint(0, 1))\n",
    "#     p = p[:-1] + '1'\n",
    "#     p = int(p, base=2)\n",
    "#     for i in mas_prost:\n",
    "#         if p % i == 0:\n",
    "#             return gen(n)\n",
    "#     if not rabinMiller(p, iterat = 5):\n",
    "#         return gen(n)\n",
    "#     return p\n",
    "# def gen1(n):\n",
    "#     p = bin(randint(pow(2, n-1), pow(2, n)-1))[2:]\n",
    "#     p = p[:-1] + '1'\n",
    "#     p = int(p, base=2)\n",
    "#     for i in mas_prost:\n",
    "#         if p % i == 0:\n",
    "#             return gen(n)\n",
    "#     if not rabinMiller(p, iterat = 5):\n",
    "#         return gen(n)\n",
    "#     return p"
   ]
  },
  {
   "cell_type": "code",
   "execution_count": 13,
   "id": "4e2d07a0",
   "metadata": {},
   "outputs": [],
   "source": [
    "from random import randint\n",
    "from math import sqrt\n",
    "def prost(n):\n",
    "    for i in range(3, int(sqrt(n))+1, 2):\n",
    "        if n % i == 0:\n",
    "            return False\n",
    "    return True\n",
    "mas_prost = [i for i in range(3, 256, 2) if prost(i)]\n",
    "def gen22(n):\n",
    "    p = ''.join([str(randint(0,1)) for i in range(n)])\n",
    "    p = '1' + p[1:-1] + '1'\n",
    "    p = int(p, base=2)\n",
    "    while True:\n",
    "        p += 2\n",
    "        flag = False\n",
    "        for i in mas_prost:\n",
    "            if p % i == 0:\n",
    "                flag = True\n",
    "                break\n",
    "        if flag: continue\n",
    "        if not rabinMiller(p, iterat = 1):\n",
    "            continue\n",
    "        return p\n",
    "def gen1(n):\n",
    "    while True:\n",
    "        p = bin(randint(pow(2, n-1), pow(2, n)-1))[2:]\n",
    "        p = p[:-1] + '1'\n",
    "        p = int(p, base=2)\n",
    "        flag = False\n",
    "        for i in mas_prost:\n",
    "            if p % i == 0:\n",
    "                flag = True\n",
    "                break\n",
    "        if flag: continue\n",
    "        if not rabinMiller(p, iterat = 1):\n",
    "            continue\n",
    "        return p"
   ]
  },
  {
   "cell_type": "code",
   "execution_count": 15,
   "id": "2a336ae6",
   "metadata": {},
   "outputs": [
    {
     "name": "stdout",
     "output_type": "stream",
     "text": [
      "875696517403447394309\n",
      "Execution time1: 4.8690907955\n",
      "658080478968856969219\n",
      "Execution time2: 5.1582288742\n"
     ]
    }
   ],
   "source": [
    "from time import time\n",
    "t1 = time()\n",
    "print(gen22(70))\n",
    "print('Execution time1:', round(time() - t1, 10))\n",
    "t2 = time()\n",
    "print(gen1(70))\n",
    "print('Execution time2:', round(time() - t2, 10))"
   ]
  },
  {
   "cell_type": "code",
   "execution_count": null,
   "id": "bd5bdb7d",
   "metadata": {},
   "outputs": [],
   "source": []
  }
 ],
 "metadata": {
  "kernelspec": {
   "display_name": "Python 3 (ipykernel)",
   "language": "python",
   "name": "python3"
  },
  "language_info": {
   "codemirror_mode": {
    "name": "ipython",
    "version": 3
   },
   "file_extension": ".py",
   "mimetype": "text/x-python",
   "name": "python",
   "nbconvert_exporter": "python",
   "pygments_lexer": "ipython3",
   "version": "3.11.5"
  }
 },
 "nbformat": 4,
 "nbformat_minor": 5
}
