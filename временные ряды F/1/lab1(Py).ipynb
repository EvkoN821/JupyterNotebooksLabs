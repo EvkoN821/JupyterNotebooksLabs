{
 "cells": [
  {
   "cell_type": "code",
   "execution_count": 1,
   "id": "02c05676",
   "metadata": {},
   "outputs": [],
   "source": [
    "import pandas as pd"
   ]
  },
  {
   "cell_type": "code",
   "execution_count": 28,
   "id": "3ccfd033",
   "metadata": {},
   "outputs": [],
   "source": [
    "import warnings\n",
    "warnings.filterwarnings(\"ignore\")"
   ]
  },
  {
   "cell_type": "code",
   "execution_count": 2,
   "id": "899e0058",
   "metadata": {},
   "outputs": [],
   "source": [
    "df = pd.read_csv('year_joined.csv')"
   ]
  },
  {
   "cell_type": "markdown",
   "id": "33dc51b0",
   "metadata": {},
   "source": [
    "Кроме того, нужно удостовериться, что данные означают именно то, что, по вашему мнению, должны означать. Допустим, что вы хотите удостовериться, что текущий статус определяется его годовым, а не другим, более краткосрочным статусом. Один из способов ответить на этот вопрос — проверить, есть ли у членов организации более одной записи"
   ]
  },
  {
   "cell_type": "code",
   "execution_count": 3,
   "id": "a9867314",
   "metadata": {},
   "outputs": [
    {
     "data": {
      "text/html": [
       "<div>\n",
       "<style scoped>\n",
       "    .dataframe tbody tr th:only-of-type {\n",
       "        vertical-align: middle;\n",
       "    }\n",
       "\n",
       "    .dataframe tbody tr th {\n",
       "        vertical-align: top;\n",
       "    }\n",
       "\n",
       "    .dataframe thead th {\n",
       "        text-align: right;\n",
       "    }\n",
       "</style>\n",
       "<table border=\"1\" class=\"dataframe\">\n",
       "  <thead>\n",
       "    <tr style=\"text-align: right;\">\n",
       "      <th></th>\n",
       "      <th>yearJoined</th>\n",
       "    </tr>\n",
       "    <tr>\n",
       "      <th>memberStats</th>\n",
       "      <th></th>\n",
       "    </tr>\n",
       "  </thead>\n",
       "  <tbody>\n",
       "    <tr>\n",
       "      <th>1</th>\n",
       "      <td>1000</td>\n",
       "    </tr>\n",
       "  </tbody>\n",
       "</table>\n",
       "</div>"
      ],
      "text/plain": [
       "             yearJoined\n",
       "memberStats            \n",
       "1                  1000"
      ]
     },
     "execution_count": 3,
     "metadata": {},
     "output_type": "execute_result"
    }
   ],
   "source": [
    "df.groupby('memberID').count().groupby('memberStats').count()"
   ]
  },
  {
   "cell_type": "markdown",
   "id": "1f33250c",
   "metadata": {},
   "source": [
    "Здесь мы видим, что все 1000 членов имеют только один статус, поэтому для всех \n",
    "них показатель YearJoined, скорее всего, будет указывать год вступления в\n",
    "организацию, а по нему будет определяться текущий статус или статус на момент\n",
    "вступления в организацию. "
   ]
  },
  {
   "cell_type": "code",
   "execution_count": 6,
   "id": "404cde51",
   "metadata": {},
   "outputs": [],
   "source": [
    "df1 = pd.read_csv('emails.csv')"
   ]
  },
  {
   "cell_type": "markdown",
   "id": "e679f9b1",
   "metadata": {},
   "source": [
    "есть ли в таблице недели, в которые участник не открыл ни одного электронного письма?"
   ]
  },
  {
   "cell_type": "code",
   "execution_count": 7,
   "id": "5176f30a",
   "metadata": {},
   "outputs": [
    {
     "data": {
      "text/html": [
       "<div>\n",
       "<style scoped>\n",
       "    .dataframe tbody tr th:only-of-type {\n",
       "        vertical-align: middle;\n",
       "    }\n",
       "\n",
       "    .dataframe tbody tr th {\n",
       "        vertical-align: top;\n",
       "    }\n",
       "\n",
       "    .dataframe thead th {\n",
       "        text-align: right;\n",
       "    }\n",
       "</style>\n",
       "<table border=\"1\" class=\"dataframe\">\n",
       "  <thead>\n",
       "    <tr style=\"text-align: right;\">\n",
       "      <th></th>\n",
       "      <th>emailsOpened</th>\n",
       "      <th>member</th>\n",
       "      <th>week</th>\n",
       "    </tr>\n",
       "  </thead>\n",
       "  <tbody>\n",
       "  </tbody>\n",
       "</table>\n",
       "</div>"
      ],
      "text/plain": [
       "Empty DataFrame\n",
       "Columns: [emailsOpened, member, week]\n",
       "Index: []"
      ]
     },
     "execution_count": 7,
     "metadata": {},
     "output_type": "execute_result"
    }
   ],
   "source": [
    "df1[df1.emailsOpened < 1]"
   ]
  },
  {
   "cell_type": "markdown",
   "id": "e6200a79",
   "metadata": {},
   "source": [
    "просмотреть историю работы с электронной почтой одного пользователя"
   ]
  },
  {
   "cell_type": "code",
   "execution_count": 8,
   "id": "47393a1a",
   "metadata": {},
   "outputs": [
    {
     "data": {
      "text/html": [
       "<div>\n",
       "<style scoped>\n",
       "    .dataframe tbody tr th:only-of-type {\n",
       "        vertical-align: middle;\n",
       "    }\n",
       "\n",
       "    .dataframe tbody tr th {\n",
       "        vertical-align: top;\n",
       "    }\n",
       "\n",
       "    .dataframe thead th {\n",
       "        text-align: right;\n",
       "    }\n",
       "</style>\n",
       "<table border=\"1\" class=\"dataframe\">\n",
       "  <thead>\n",
       "    <tr style=\"text-align: right;\">\n",
       "      <th></th>\n",
       "      <th>emailsOpened</th>\n",
       "      <th>member</th>\n",
       "      <th>week</th>\n",
       "    </tr>\n",
       "  </thead>\n",
       "  <tbody>\n",
       "    <tr>\n",
       "      <th>25464</th>\n",
       "      <td>1.0</td>\n",
       "      <td>998.0</td>\n",
       "      <td>2017-12-04 00:00:00</td>\n",
       "    </tr>\n",
       "    <tr>\n",
       "      <th>25465</th>\n",
       "      <td>3.0</td>\n",
       "      <td>998.0</td>\n",
       "      <td>2017-12-11 00:00:00</td>\n",
       "    </tr>\n",
       "    <tr>\n",
       "      <th>25466</th>\n",
       "      <td>3.0</td>\n",
       "      <td>998.0</td>\n",
       "      <td>2017-12-18 00:00:00</td>\n",
       "    </tr>\n",
       "    <tr>\n",
       "      <th>25467</th>\n",
       "      <td>3.0</td>\n",
       "      <td>998.0</td>\n",
       "      <td>2018-01-01 00:00:00</td>\n",
       "    </tr>\n",
       "    <tr>\n",
       "      <th>25468</th>\n",
       "      <td>3.0</td>\n",
       "      <td>998.0</td>\n",
       "      <td>2018-01-08 00:00:00</td>\n",
       "    </tr>\n",
       "    <tr>\n",
       "      <th>25469</th>\n",
       "      <td>2.0</td>\n",
       "      <td>998.0</td>\n",
       "      <td>2018-01-15 00:00:00</td>\n",
       "    </tr>\n",
       "    <tr>\n",
       "      <th>25470</th>\n",
       "      <td>3.0</td>\n",
       "      <td>998.0</td>\n",
       "      <td>2018-01-22 00:00:00</td>\n",
       "    </tr>\n",
       "    <tr>\n",
       "      <th>25471</th>\n",
       "      <td>2.0</td>\n",
       "      <td>998.0</td>\n",
       "      <td>2018-01-29 00:00:00</td>\n",
       "    </tr>\n",
       "    <tr>\n",
       "      <th>25472</th>\n",
       "      <td>3.0</td>\n",
       "      <td>998.0</td>\n",
       "      <td>2018-02-05 00:00:00</td>\n",
       "    </tr>\n",
       "    <tr>\n",
       "      <th>25473</th>\n",
       "      <td>3.0</td>\n",
       "      <td>998.0</td>\n",
       "      <td>2018-02-12 00:00:00</td>\n",
       "    </tr>\n",
       "    <tr>\n",
       "      <th>25474</th>\n",
       "      <td>3.0</td>\n",
       "      <td>998.0</td>\n",
       "      <td>2018-02-19 00:00:00</td>\n",
       "    </tr>\n",
       "    <tr>\n",
       "      <th>25475</th>\n",
       "      <td>2.0</td>\n",
       "      <td>998.0</td>\n",
       "      <td>2018-02-26 00:00:00</td>\n",
       "    </tr>\n",
       "    <tr>\n",
       "      <th>25476</th>\n",
       "      <td>2.0</td>\n",
       "      <td>998.0</td>\n",
       "      <td>2018-03-05 00:00:00</td>\n",
       "    </tr>\n",
       "    <tr>\n",
       "      <th>25477</th>\n",
       "      <td>3.0</td>\n",
       "      <td>998.0</td>\n",
       "      <td>2018-03-12 00:00:00</td>\n",
       "    </tr>\n",
       "    <tr>\n",
       "      <th>25478</th>\n",
       "      <td>2.0</td>\n",
       "      <td>998.0</td>\n",
       "      <td>2018-03-19 00:00:00</td>\n",
       "    </tr>\n",
       "    <tr>\n",
       "      <th>25479</th>\n",
       "      <td>2.0</td>\n",
       "      <td>998.0</td>\n",
       "      <td>2018-03-26 00:00:00</td>\n",
       "    </tr>\n",
       "    <tr>\n",
       "      <th>25480</th>\n",
       "      <td>3.0</td>\n",
       "      <td>998.0</td>\n",
       "      <td>2018-04-02 00:00:00</td>\n",
       "    </tr>\n",
       "    <tr>\n",
       "      <th>25481</th>\n",
       "      <td>3.0</td>\n",
       "      <td>998.0</td>\n",
       "      <td>2018-04-09 00:00:00</td>\n",
       "    </tr>\n",
       "    <tr>\n",
       "      <th>25482</th>\n",
       "      <td>3.0</td>\n",
       "      <td>998.0</td>\n",
       "      <td>2018-04-16 00:00:00</td>\n",
       "    </tr>\n",
       "    <tr>\n",
       "      <th>25483</th>\n",
       "      <td>3.0</td>\n",
       "      <td>998.0</td>\n",
       "      <td>2018-04-30 00:00:00</td>\n",
       "    </tr>\n",
       "    <tr>\n",
       "      <th>25484</th>\n",
       "      <td>3.0</td>\n",
       "      <td>998.0</td>\n",
       "      <td>2018-05-07 00:00:00</td>\n",
       "    </tr>\n",
       "    <tr>\n",
       "      <th>25485</th>\n",
       "      <td>3.0</td>\n",
       "      <td>998.0</td>\n",
       "      <td>2018-05-14 00:00:00</td>\n",
       "    </tr>\n",
       "    <tr>\n",
       "      <th>25486</th>\n",
       "      <td>3.0</td>\n",
       "      <td>998.0</td>\n",
       "      <td>2018-05-21 00:00:00</td>\n",
       "    </tr>\n",
       "    <tr>\n",
       "      <th>25487</th>\n",
       "      <td>3.0</td>\n",
       "      <td>998.0</td>\n",
       "      <td>2018-05-28 00:00:00</td>\n",
       "    </tr>\n",
       "  </tbody>\n",
       "</table>\n",
       "</div>"
      ],
      "text/plain": [
       "       emailsOpened  member                 week\n",
       "25464           1.0   998.0  2017-12-04 00:00:00\n",
       "25465           3.0   998.0  2017-12-11 00:00:00\n",
       "25466           3.0   998.0  2017-12-18 00:00:00\n",
       "25467           3.0   998.0  2018-01-01 00:00:00\n",
       "25468           3.0   998.0  2018-01-08 00:00:00\n",
       "25469           2.0   998.0  2018-01-15 00:00:00\n",
       "25470           3.0   998.0  2018-01-22 00:00:00\n",
       "25471           2.0   998.0  2018-01-29 00:00:00\n",
       "25472           3.0   998.0  2018-02-05 00:00:00\n",
       "25473           3.0   998.0  2018-02-12 00:00:00\n",
       "25474           3.0   998.0  2018-02-19 00:00:00\n",
       "25475           2.0   998.0  2018-02-26 00:00:00\n",
       "25476           2.0   998.0  2018-03-05 00:00:00\n",
       "25477           3.0   998.0  2018-03-12 00:00:00\n",
       "25478           2.0   998.0  2018-03-19 00:00:00\n",
       "25479           2.0   998.0  2018-03-26 00:00:00\n",
       "25480           3.0   998.0  2018-04-02 00:00:00\n",
       "25481           3.0   998.0  2018-04-09 00:00:00\n",
       "25482           3.0   998.0  2018-04-16 00:00:00\n",
       "25483           3.0   998.0  2018-04-30 00:00:00\n",
       "25484           3.0   998.0  2018-05-07 00:00:00\n",
       "25485           3.0   998.0  2018-05-14 00:00:00\n",
       "25486           3.0   998.0  2018-05-21 00:00:00\n",
       "25487           3.0   998.0  2018-05-28 00:00:00"
      ]
     },
     "execution_count": 8,
     "metadata": {},
     "output_type": "execute_result"
    }
   ],
   "source": [
    "df1[df1.member==998]"
   ]
  },
  {
   "cell_type": "markdown",
   "id": "f246bd22",
   "metadata": {},
   "source": [
    "количество еженедельных наблюдений между первым и последним событиями для рассматриваемого члена организации"
   ]
  },
  {
   "cell_type": "code",
   "execution_count": 9,
   "id": "e2745b39",
   "metadata": {},
   "outputs": [],
   "source": [
    "import datetime as dt\n"
   ]
  },
  {
   "cell_type": "code",
   "execution_count": 10,
   "id": "bb6f2d39",
   "metadata": {},
   "outputs": [],
   "source": [
    "a1 = dt.datetime.strptime(max(df1[df1.member == 998].week), \"%Y-%m-%d %H:%M:%S\")\n",
    "a2 = dt.datetime.strptime(min(df1[df1.member == 998].week),\"%Y-%m-%d %H:%M:%S\")\n"
   ]
  },
  {
   "cell_type": "code",
   "execution_count": 11,
   "id": "7bbb1082",
   "metadata": {},
   "outputs": [
    {
     "data": {
      "text/plain": [
       "25.0"
      ]
     },
     "execution_count": 11,
     "metadata": {},
     "output_type": "execute_result"
    }
   ],
   "source": [
    "(a1-a2).days/7"
   ]
  },
  {
   "cell_type": "markdown",
   "id": "ed160105",
   "metadata": {},
   "source": [
    "определить количество недель, для которых заданы учетные данные."
   ]
  },
  {
   "cell_type": "code",
   "execution_count": 12,
   "id": "8a8a2836",
   "metadata": {},
   "outputs": [
    {
     "data": {
      "text/plain": [
       "(24, 3)"
      ]
     },
     "execution_count": 12,
     "metadata": {},
     "output_type": "execute_result"
    }
   ],
   "source": [
    "df1[df1.member == 998].shape"
   ]
  },
  {
   "cell_type": "markdown",
   "id": "48c2d1cd",
   "metadata": {},
   "source": [
    "заполнить все недостающие недели для всех участников сразу"
   ]
  },
  {
   "cell_type": "code",
   "execution_count": 13,
   "id": "6a38abe2",
   "metadata": {},
   "outputs": [
    {
     "data": {
      "text/plain": [
       "MultiIndex([('2015-10-26 00:00:00',   1.0),\n",
       "            ('2015-10-26 00:00:00',   3.0),\n",
       "            ('2015-10-26 00:00:00',   5.0),\n",
       "            ('2015-10-26 00:00:00',   6.0),\n",
       "            ('2015-10-26 00:00:00',   9.0),\n",
       "            ('2015-10-26 00:00:00',  10.0),\n",
       "            ('2015-10-26 00:00:00',  14.0),\n",
       "            ('2015-10-26 00:00:00',  16.0),\n",
       "            ('2015-10-26 00:00:00',  20.0),\n",
       "            ('2015-10-26 00:00:00',  21.0),\n",
       "            ...\n",
       "            ('2017-08-21 00:00:00', 973.0),\n",
       "            ('2017-08-21 00:00:00', 977.0),\n",
       "            ('2017-08-21 00:00:00', 982.0),\n",
       "            ('2017-08-21 00:00:00', 984.0),\n",
       "            ('2017-08-21 00:00:00', 987.0),\n",
       "            ('2017-08-21 00:00:00', 991.0),\n",
       "            ('2017-08-21 00:00:00', 992.0),\n",
       "            ('2017-08-21 00:00:00', 993.0),\n",
       "            ('2017-08-21 00:00:00', 995.0),\n",
       "            ('2017-08-21 00:00:00', 998.0)],\n",
       "           length=93247)"
      ]
     },
     "execution_count": 13,
     "metadata": {},
     "output_type": "execute_result"
    }
   ],
   "source": [
    "complete_idx = pd.MultiIndex.from_product((set(df1.week), set(df1.member)))\n",
    "complete_idx"
   ]
  },
  {
   "cell_type": "markdown",
   "id": "b21594c8",
   "metadata": {},
   "source": [
    "Используем полученный индекс для переиндексации исходной таблицы и заполнения пропущенных значений — в нашем случае нулем, \n",
    "предполагая, что если в строке ничего не записано, значит, записывать было нечего. Мы также сбрасываем индекс, чтобы заносить информацию\n",
    "о членах организации и неделях в отдельные столбцы, а затем присваиваем имена этим столбцам."
   ]
  },
  {
   "cell_type": "code",
   "execution_count": 14,
   "id": "f9e77fef",
   "metadata": {},
   "outputs": [
    {
     "data": {
      "text/html": [
       "<div>\n",
       "<style scoped>\n",
       "    .dataframe tbody tr th:only-of-type {\n",
       "        vertical-align: middle;\n",
       "    }\n",
       "\n",
       "    .dataframe tbody tr th {\n",
       "        vertical-align: top;\n",
       "    }\n",
       "\n",
       "    .dataframe thead th {\n",
       "        text-align: right;\n",
       "    }\n",
       "</style>\n",
       "<table border=\"1\" class=\"dataframe\">\n",
       "  <thead>\n",
       "    <tr style=\"text-align: right;\">\n",
       "      <th></th>\n",
       "      <th>week</th>\n",
       "      <th>member</th>\n",
       "      <th>emailsOpened</th>\n",
       "    </tr>\n",
       "  </thead>\n",
       "  <tbody>\n",
       "    <tr>\n",
       "      <th>0</th>\n",
       "      <td>2015-10-26 00:00:00</td>\n",
       "      <td>1.0</td>\n",
       "      <td>3.0</td>\n",
       "    </tr>\n",
       "    <tr>\n",
       "      <th>1</th>\n",
       "      <td>2015-10-26 00:00:00</td>\n",
       "      <td>3.0</td>\n",
       "      <td>0.0</td>\n",
       "    </tr>\n",
       "    <tr>\n",
       "      <th>2</th>\n",
       "      <td>2015-10-26 00:00:00</td>\n",
       "      <td>5.0</td>\n",
       "      <td>0.0</td>\n",
       "    </tr>\n",
       "    <tr>\n",
       "      <th>3</th>\n",
       "      <td>2015-10-26 00:00:00</td>\n",
       "      <td>6.0</td>\n",
       "      <td>0.0</td>\n",
       "    </tr>\n",
       "    <tr>\n",
       "      <th>4</th>\n",
       "      <td>2015-10-26 00:00:00</td>\n",
       "      <td>9.0</td>\n",
       "      <td>0.0</td>\n",
       "    </tr>\n",
       "    <tr>\n",
       "      <th>...</th>\n",
       "      <td>...</td>\n",
       "      <td>...</td>\n",
       "      <td>...</td>\n",
       "    </tr>\n",
       "    <tr>\n",
       "      <th>93242</th>\n",
       "      <td>2017-08-21 00:00:00</td>\n",
       "      <td>991.0</td>\n",
       "      <td>0.0</td>\n",
       "    </tr>\n",
       "    <tr>\n",
       "      <th>93243</th>\n",
       "      <td>2017-08-21 00:00:00</td>\n",
       "      <td>992.0</td>\n",
       "      <td>0.0</td>\n",
       "    </tr>\n",
       "    <tr>\n",
       "      <th>93244</th>\n",
       "      <td>2017-08-21 00:00:00</td>\n",
       "      <td>993.0</td>\n",
       "      <td>0.0</td>\n",
       "    </tr>\n",
       "    <tr>\n",
       "      <th>93245</th>\n",
       "      <td>2017-08-21 00:00:00</td>\n",
       "      <td>995.0</td>\n",
       "      <td>0.0</td>\n",
       "    </tr>\n",
       "    <tr>\n",
       "      <th>93246</th>\n",
       "      <td>2017-08-21 00:00:00</td>\n",
       "      <td>998.0</td>\n",
       "      <td>0.0</td>\n",
       "    </tr>\n",
       "  </tbody>\n",
       "</table>\n",
       "<p>93247 rows × 3 columns</p>\n",
       "</div>"
      ],
      "text/plain": [
       "                      week  member  emailsOpened\n",
       "0      2015-10-26 00:00:00     1.0           3.0\n",
       "1      2015-10-26 00:00:00     3.0           0.0\n",
       "2      2015-10-26 00:00:00     5.0           0.0\n",
       "3      2015-10-26 00:00:00     6.0           0.0\n",
       "4      2015-10-26 00:00:00     9.0           0.0\n",
       "...                    ...     ...           ...\n",
       "93242  2017-08-21 00:00:00   991.0           0.0\n",
       "93243  2017-08-21 00:00:00   992.0           0.0\n",
       "93244  2017-08-21 00:00:00   993.0           0.0\n",
       "93245  2017-08-21 00:00:00   995.0           0.0\n",
       "93246  2017-08-21 00:00:00   998.0           0.0\n",
       "\n",
       "[93247 rows x 3 columns]"
      ]
     },
     "execution_count": 14,
     "metadata": {},
     "output_type": "execute_result"
    }
   ],
   "source": [
    "all_email = df1.set_index([ 'week', 'member']).reindex(complete_idx, fill_value = 0).reset_index()\n",
    "all_email.columns = ['week', 'member', 'emailsOpened' ]\n",
    "all_email"
   ]
  },
  {
   "cell_type": "markdown",
   "id": "35d737b1",
   "metadata": {},
   "source": [
    "изучим данные для члена организации с индексом 998"
   ]
  },
  {
   "cell_type": "code",
   "execution_count": 15,
   "id": "45167f3c",
   "metadata": {},
   "outputs": [
    {
     "data": {
      "text/html": [
       "<div>\n",
       "<style scoped>\n",
       "    .dataframe tbody tr th:only-of-type {\n",
       "        vertical-align: middle;\n",
       "    }\n",
       "\n",
       "    .dataframe tbody tr th {\n",
       "        vertical-align: top;\n",
       "    }\n",
       "\n",
       "    .dataframe thead th {\n",
       "        text-align: right;\n",
       "    }\n",
       "</style>\n",
       "<table border=\"1\" class=\"dataframe\">\n",
       "  <thead>\n",
       "    <tr style=\"text-align: right;\">\n",
       "      <th></th>\n",
       "      <th>week</th>\n",
       "      <th>member</th>\n",
       "      <th>emailsOpened</th>\n",
       "    </tr>\n",
       "  </thead>\n",
       "  <tbody>\n",
       "    <tr>\n",
       "      <th>5389</th>\n",
       "      <td>2015-02-09 00:00:00</td>\n",
       "      <td>998.0</td>\n",
       "      <td>0.0</td>\n",
       "    </tr>\n",
       "    <tr>\n",
       "      <th>29644</th>\n",
       "      <td>2015-02-16 00:00:00</td>\n",
       "      <td>998.0</td>\n",
       "      <td>0.0</td>\n",
       "    </tr>\n",
       "    <tr>\n",
       "      <th>24254</th>\n",
       "      <td>2015-02-23 00:00:00</td>\n",
       "      <td>998.0</td>\n",
       "      <td>0.0</td>\n",
       "    </tr>\n",
       "    <tr>\n",
       "      <th>67374</th>\n",
       "      <td>2015-03-02 00:00:00</td>\n",
       "      <td>998.0</td>\n",
       "      <td>0.0</td>\n",
       "    </tr>\n",
       "    <tr>\n",
       "      <th>18864</th>\n",
       "      <td>2015-03-09 00:00:00</td>\n",
       "      <td>998.0</td>\n",
       "      <td>0.0</td>\n",
       "    </tr>\n",
       "    <tr>\n",
       "      <th>...</th>\n",
       "      <td>...</td>\n",
       "      <td>...</td>\n",
       "      <td>...</td>\n",
       "    </tr>\n",
       "    <tr>\n",
       "      <th>85161</th>\n",
       "      <td>2018-04-30 00:00:00</td>\n",
       "      <td>998.0</td>\n",
       "      <td>3.0</td>\n",
       "    </tr>\n",
       "    <tr>\n",
       "      <th>30722</th>\n",
       "      <td>2018-05-07 00:00:00</td>\n",
       "      <td>998.0</td>\n",
       "      <td>3.0</td>\n",
       "    </tr>\n",
       "    <tr>\n",
       "      <th>38268</th>\n",
       "      <td>2018-05-14 00:00:00</td>\n",
       "      <td>998.0</td>\n",
       "      <td>3.0</td>\n",
       "    </tr>\n",
       "    <tr>\n",
       "      <th>91090</th>\n",
       "      <td>2018-05-21 00:00:00</td>\n",
       "      <td>998.0</td>\n",
       "      <td>3.0</td>\n",
       "    </tr>\n",
       "    <tr>\n",
       "      <th>86239</th>\n",
       "      <td>2018-05-28 00:00:00</td>\n",
       "      <td>998.0</td>\n",
       "      <td>3.0</td>\n",
       "    </tr>\n",
       "  </tbody>\n",
       "</table>\n",
       "<p>173 rows × 3 columns</p>\n",
       "</div>"
      ],
      "text/plain": [
       "                      week  member  emailsOpened\n",
       "5389   2015-02-09 00:00:00   998.0           0.0\n",
       "29644  2015-02-16 00:00:00   998.0           0.0\n",
       "24254  2015-02-23 00:00:00   998.0           0.0\n",
       "67374  2015-03-02 00:00:00   998.0           0.0\n",
       "18864  2015-03-09 00:00:00   998.0           0.0\n",
       "...                    ...     ...           ...\n",
       "85161  2018-04-30 00:00:00   998.0           3.0\n",
       "30722  2018-05-07 00:00:00   998.0           3.0\n",
       "38268  2018-05-14 00:00:00   998.0           3.0\n",
       "91090  2018-05-21 00:00:00   998.0           3.0\n",
       "86239  2018-05-28 00:00:00   998.0           3.0\n",
       "\n",
       "[173 rows x 3 columns]"
      ]
     },
     "execution_count": 15,
     "metadata": {},
     "output_type": "execute_result"
    }
   ],
   "source": [
    "all_email[all_email.member == 998].sort_values('week')"
   ]
  },
  {
   "cell_type": "markdown",
   "id": "869cf5e7",
   "metadata": {},
   "source": [
    "Для каждого члена организации определим срезы start_date и end_date, группируя DataFrame электронной\n",
    "почты для каждого члена организации и выбирая максимальное и минимальное значения недели"
   ]
  },
  {
   "cell_type": "code",
   "execution_count": 16,
   "id": "da8154ce",
   "metadata": {},
   "outputs": [
    {
     "data": {
      "text/html": [
       "<div>\n",
       "<style scoped>\n",
       "    .dataframe tbody tr th:only-of-type {\n",
       "        vertical-align: middle;\n",
       "    }\n",
       "\n",
       "    .dataframe tbody tr th {\n",
       "        vertical-align: top;\n",
       "    }\n",
       "\n",
       "    .dataframe thead th {\n",
       "        text-align: right;\n",
       "    }\n",
       "</style>\n",
       "<table border=\"1\" class=\"dataframe\">\n",
       "  <thead>\n",
       "    <tr style=\"text-align: right;\">\n",
       "      <th></th>\n",
       "      <th>index</th>\n",
       "      <th>member</th>\n",
       "      <th>min</th>\n",
       "      <th>max</th>\n",
       "    </tr>\n",
       "  </thead>\n",
       "  <tbody>\n",
       "    <tr>\n",
       "      <th>0</th>\n",
       "      <td>0</td>\n",
       "      <td>1.0</td>\n",
       "      <td>2015-06-29 00:00:00</td>\n",
       "      <td>2018-05-28 00:00:00</td>\n",
       "    </tr>\n",
       "    <tr>\n",
       "      <th>1</th>\n",
       "      <td>1</td>\n",
       "      <td>3.0</td>\n",
       "      <td>2018-03-05 00:00:00</td>\n",
       "      <td>2018-04-23 00:00:00</td>\n",
       "    </tr>\n",
       "    <tr>\n",
       "      <th>2</th>\n",
       "      <td>2</td>\n",
       "      <td>5.0</td>\n",
       "      <td>2017-06-05 00:00:00</td>\n",
       "      <td>2018-05-28 00:00:00</td>\n",
       "    </tr>\n",
       "    <tr>\n",
       "      <th>3</th>\n",
       "      <td>3</td>\n",
       "      <td>6.0</td>\n",
       "      <td>2016-12-05 00:00:00</td>\n",
       "      <td>2018-05-28 00:00:00</td>\n",
       "    </tr>\n",
       "    <tr>\n",
       "      <th>4</th>\n",
       "      <td>4</td>\n",
       "      <td>9.0</td>\n",
       "      <td>2016-07-18 00:00:00</td>\n",
       "      <td>2018-05-28 00:00:00</td>\n",
       "    </tr>\n",
       "    <tr>\n",
       "      <th>...</th>\n",
       "      <td>...</td>\n",
       "      <td>...</td>\n",
       "      <td>...</td>\n",
       "      <td>...</td>\n",
       "    </tr>\n",
       "    <tr>\n",
       "      <th>534</th>\n",
       "      <td>534</td>\n",
       "      <td>991.0</td>\n",
       "      <td>2016-10-24 00:00:00</td>\n",
       "      <td>2016-10-24 00:00:00</td>\n",
       "    </tr>\n",
       "    <tr>\n",
       "      <th>535</th>\n",
       "      <td>535</td>\n",
       "      <td>992.0</td>\n",
       "      <td>2015-02-09 00:00:00</td>\n",
       "      <td>2015-07-06 00:00:00</td>\n",
       "    </tr>\n",
       "    <tr>\n",
       "      <th>536</th>\n",
       "      <td>536</td>\n",
       "      <td>993.0</td>\n",
       "      <td>2017-09-11 00:00:00</td>\n",
       "      <td>2018-05-28 00:00:00</td>\n",
       "    </tr>\n",
       "    <tr>\n",
       "      <th>537</th>\n",
       "      <td>537</td>\n",
       "      <td>995.0</td>\n",
       "      <td>2016-09-05 00:00:00</td>\n",
       "      <td>2018-05-28 00:00:00</td>\n",
       "    </tr>\n",
       "    <tr>\n",
       "      <th>538</th>\n",
       "      <td>538</td>\n",
       "      <td>998.0</td>\n",
       "      <td>2017-12-04 00:00:00</td>\n",
       "      <td>2018-05-28 00:00:00</td>\n",
       "    </tr>\n",
       "  </tbody>\n",
       "</table>\n",
       "<p>539 rows × 4 columns</p>\n",
       "</div>"
      ],
      "text/plain": [
       "     index  member                  min                  max\n",
       "0        0     1.0  2015-06-29 00:00:00  2018-05-28 00:00:00\n",
       "1        1     3.0  2018-03-05 00:00:00  2018-04-23 00:00:00\n",
       "2        2     5.0  2017-06-05 00:00:00  2018-05-28 00:00:00\n",
       "3        3     6.0  2016-12-05 00:00:00  2018-05-28 00:00:00\n",
       "4        4     9.0  2016-07-18 00:00:00  2018-05-28 00:00:00\n",
       "..     ...     ...                  ...                  ...\n",
       "534    534   991.0  2016-10-24 00:00:00  2016-10-24 00:00:00\n",
       "535    535   992.0  2015-02-09 00:00:00  2015-07-06 00:00:00\n",
       "536    536   993.0  2017-09-11 00:00:00  2018-05-28 00:00:00\n",
       "537    537   995.0  2016-09-05 00:00:00  2018-05-28 00:00:00\n",
       "538    538   998.0  2017-12-04 00:00:00  2018-05-28 00:00:00\n",
       "\n",
       "[539 rows x 4 columns]"
      ]
     },
     "execution_count": 16,
     "metadata": {},
     "output_type": "execute_result"
    }
   ],
   "source": [
    "cutoff_dates = df1.groupby('member').week.agg(['min', 'max' ]).reset_index()\n",
    "cutoff_dates = cutoff_dates.reset_index()\n",
    "cutoff_dates"
   ]
  },
  {
   "cell_type": "markdown",
   "id": "529cfaca",
   "metadata": {},
   "source": [
    "Удалим из DataFrame строки, которые не вносят заметного вклада в хронологию\n",
    "событий, а именно — все нулевые строки перед первыми ненулевыми строками\n",
    "каждого члена организации"
   ]
  },
  {
   "cell_type": "code",
   "execution_count": 29,
   "id": "74a6b25a",
   "metadata": {},
   "outputs": [],
   "source": [
    "for _, row in cutoff_dates.iterrows():\n",
    "    member = row ['member']\n",
    "    start_date = row ['min']\n",
    "    end_date = row ['max']\n",
    "    all_email.drop(all_email[all_email.member == member][all_email.week < start_date].index, inplace=True)\n",
    "    all_email.drop(all_email[all_email.member == member][all_email.week > end_date].index, inplace=True)"
   ]
  },
  {
   "cell_type": "code",
   "execution_count": 25,
   "id": "f7ab3cf9",
   "metadata": {},
   "outputs": [
    {
     "data": {
      "text/html": [
       "<div>\n",
       "<style scoped>\n",
       "    .dataframe tbody tr th:only-of-type {\n",
       "        vertical-align: middle;\n",
       "    }\n",
       "\n",
       "    .dataframe tbody tr th {\n",
       "        vertical-align: top;\n",
       "    }\n",
       "\n",
       "    .dataframe thead th {\n",
       "        text-align: right;\n",
       "    }\n",
       "</style>\n",
       "<table border=\"1\" class=\"dataframe\">\n",
       "  <thead>\n",
       "    <tr style=\"text-align: right;\">\n",
       "      <th></th>\n",
       "      <th>week</th>\n",
       "      <th>member</th>\n",
       "      <th>emailsOpened</th>\n",
       "    </tr>\n",
       "  </thead>\n",
       "  <tbody>\n",
       "    <tr>\n",
       "      <th>0</th>\n",
       "      <td>2015-10-26 00:00:00</td>\n",
       "      <td>1.0</td>\n",
       "      <td>3.0</td>\n",
       "    </tr>\n",
       "    <tr>\n",
       "      <th>13</th>\n",
       "      <td>2015-10-26 00:00:00</td>\n",
       "      <td>31.0</td>\n",
       "      <td>3.0</td>\n",
       "    </tr>\n",
       "    <tr>\n",
       "      <th>14</th>\n",
       "      <td>2015-10-26 00:00:00</td>\n",
       "      <td>33.0</td>\n",
       "      <td>2.0</td>\n",
       "    </tr>\n",
       "    <tr>\n",
       "      <th>15</th>\n",
       "      <td>2015-10-26 00:00:00</td>\n",
       "      <td>34.0</td>\n",
       "      <td>3.0</td>\n",
       "    </tr>\n",
       "    <tr>\n",
       "      <th>16</th>\n",
       "      <td>2015-10-26 00:00:00</td>\n",
       "      <td>38.0</td>\n",
       "      <td>1.0</td>\n",
       "    </tr>\n",
       "    <tr>\n",
       "      <th>...</th>\n",
       "      <td>...</td>\n",
       "      <td>...</td>\n",
       "      <td>...</td>\n",
       "    </tr>\n",
       "    <tr>\n",
       "      <th>93236</th>\n",
       "      <td>2017-08-21 00:00:00</td>\n",
       "      <td>970.0</td>\n",
       "      <td>3.0</td>\n",
       "    </tr>\n",
       "    <tr>\n",
       "      <th>93237</th>\n",
       "      <td>2017-08-21 00:00:00</td>\n",
       "      <td>973.0</td>\n",
       "      <td>2.0</td>\n",
       "    </tr>\n",
       "    <tr>\n",
       "      <th>93240</th>\n",
       "      <td>2017-08-21 00:00:00</td>\n",
       "      <td>984.0</td>\n",
       "      <td>0.0</td>\n",
       "    </tr>\n",
       "    <tr>\n",
       "      <th>93241</th>\n",
       "      <td>2017-08-21 00:00:00</td>\n",
       "      <td>987.0</td>\n",
       "      <td>3.0</td>\n",
       "    </tr>\n",
       "    <tr>\n",
       "      <th>93245</th>\n",
       "      <td>2017-08-21 00:00:00</td>\n",
       "      <td>995.0</td>\n",
       "      <td>0.0</td>\n",
       "    </tr>\n",
       "  </tbody>\n",
       "</table>\n",
       "<p>31836 rows × 3 columns</p>\n",
       "</div>"
      ],
      "text/plain": [
       "                      week  member  emailsOpened\n",
       "0      2015-10-26 00:00:00     1.0           3.0\n",
       "13     2015-10-26 00:00:00    31.0           3.0\n",
       "14     2015-10-26 00:00:00    33.0           2.0\n",
       "15     2015-10-26 00:00:00    34.0           3.0\n",
       "16     2015-10-26 00:00:00    38.0           1.0\n",
       "...                    ...     ...           ...\n",
       "93236  2017-08-21 00:00:00   970.0           3.0\n",
       "93237  2017-08-21 00:00:00   973.0           2.0\n",
       "93240  2017-08-21 00:00:00   984.0           0.0\n",
       "93241  2017-08-21 00:00:00   987.0           3.0\n",
       "93245  2017-08-21 00:00:00   995.0           0.0\n",
       "\n",
       "[31836 rows x 3 columns]"
      ]
     },
     "execution_count": 25,
     "metadata": {},
     "output_type": "execute_result"
    }
   ],
   "source": [
    "all_email"
   ]
  },
  {
   "cell_type": "markdown",
   "id": "b167aa89",
   "metadata": {},
   "source": [
    "файл donations"
   ]
  },
  {
   "cell_type": "code",
   "execution_count": 18,
   "id": "c053dad4",
   "metadata": {},
   "outputs": [],
   "source": [
    "donations = pd.read_csv('donations.csv')"
   ]
  },
  {
   "cell_type": "markdown",
   "id": "6705fc3b",
   "metadata": {},
   "source": [
    "В этом коде мы сначала преобразуем строковый символ в соответствующий класс данных с временными метками, чтобы в дальнейшем применить функцию индексации по дате пакета Pandas."
   ]
  },
  {
   "cell_type": "markdown",
   "id": "e70f4ba8",
   "metadata": {},
   "source": [
    "Наконец, в получаемых для каждого члена организации фреймах данных мы группируем и суммируем взносы за недельные периоды времени, отбрасываем недели, в которых не оплачивались взносы, а затем складываем их вместе"
   ]
  },
  {
   "cell_type": "code",
   "execution_count": 30,
   "id": "e38ad72a",
   "metadata": {},
   "outputs": [],
   "source": [
    "donations.timestamp = pd.to_datetime(donations.timestamp)\n",
    "donations.set_index('timestamp', inplace = True)\n",
    "agg_don = donations.groupby('member').apply(lambda df: df.amount.resample (\"W-MON\").sum().dropna())\n"
   ]
  },
  {
   "cell_type": "code",
   "execution_count": 31,
   "id": "1d14dab3",
   "metadata": {},
   "outputs": [
    {
     "data": {
      "text/html": [
       "<div>\n",
       "<style scoped>\n",
       "    .dataframe tbody tr th:only-of-type {\n",
       "        vertical-align: middle;\n",
       "    }\n",
       "\n",
       "    .dataframe tbody tr th {\n",
       "        vertical-align: top;\n",
       "    }\n",
       "\n",
       "    .dataframe thead th {\n",
       "        text-align: right;\n",
       "    }\n",
       "</style>\n",
       "<table border=\"1\" class=\"dataframe\">\n",
       "  <thead>\n",
       "    <tr style=\"text-align: right;\">\n",
       "      <th></th>\n",
       "      <th>amount</th>\n",
       "      <th>member</th>\n",
       "    </tr>\n",
       "    <tr>\n",
       "      <th>timestamp</th>\n",
       "      <th></th>\n",
       "      <th></th>\n",
       "    </tr>\n",
       "  </thead>\n",
       "  <tbody>\n",
       "    <tr>\n",
       "      <th>2017-11-12 11:13:44</th>\n",
       "      <td>25.0</td>\n",
       "      <td>0.0</td>\n",
       "    </tr>\n",
       "    <tr>\n",
       "      <th>2015-08-25 19:01:45</th>\n",
       "      <td>50.0</td>\n",
       "      <td>0.0</td>\n",
       "    </tr>\n",
       "    <tr>\n",
       "      <th>2015-03-26 12:03:47</th>\n",
       "      <td>25.0</td>\n",
       "      <td>0.0</td>\n",
       "    </tr>\n",
       "    <tr>\n",
       "      <th>2016-07-06 12:24:55</th>\n",
       "      <td>50.0</td>\n",
       "      <td>0.0</td>\n",
       "    </tr>\n",
       "    <tr>\n",
       "      <th>2016-05-11 18:13:04</th>\n",
       "      <td>50.0</td>\n",
       "      <td>1.0</td>\n",
       "    </tr>\n",
       "    <tr>\n",
       "      <th>...</th>\n",
       "      <td>...</td>\n",
       "      <td>...</td>\n",
       "    </tr>\n",
       "    <tr>\n",
       "      <th>2016-09-02 11:20:00</th>\n",
       "      <td>25.0</td>\n",
       "      <td>992.0</td>\n",
       "    </tr>\n",
       "    <tr>\n",
       "      <th>2017-11-02 12:17:06</th>\n",
       "      <td>50.0</td>\n",
       "      <td>993.0</td>\n",
       "    </tr>\n",
       "    <tr>\n",
       "      <th>2016-09-13 21:09:47</th>\n",
       "      <td>1000.0</td>\n",
       "      <td>995.0</td>\n",
       "    </tr>\n",
       "    <tr>\n",
       "      <th>2017-09-29 20:03:01</th>\n",
       "      <td>1000.0</td>\n",
       "      <td>995.0</td>\n",
       "    </tr>\n",
       "    <tr>\n",
       "      <th>2018-01-03 19:24:24</th>\n",
       "      <td>50.0</td>\n",
       "      <td>998.0</td>\n",
       "    </tr>\n",
       "  </tbody>\n",
       "</table>\n",
       "<p>2676 rows × 2 columns</p>\n",
       "</div>"
      ],
      "text/plain": [
       "                     amount  member\n",
       "timestamp                          \n",
       "2017-11-12 11:13:44    25.0     0.0\n",
       "2015-08-25 19:01:45    50.0     0.0\n",
       "2015-03-26 12:03:47    25.0     0.0\n",
       "2016-07-06 12:24:55    50.0     0.0\n",
       "2016-05-11 18:13:04    50.0     1.0\n",
       "...                     ...     ...\n",
       "2016-09-02 11:20:00    25.0   992.0\n",
       "2017-11-02 12:17:06    50.0   993.0\n",
       "2016-09-13 21:09:47  1000.0   995.0\n",
       "2017-09-29 20:03:01  1000.0   995.0\n",
       "2018-01-03 19:24:24    50.0   998.0\n",
       "\n",
       "[2676 rows x 2 columns]"
      ]
     },
     "execution_count": 31,
     "metadata": {},
     "output_type": "execute_result"
    }
   ],
   "source": [
    "donations"
   ]
  },
  {
   "cell_type": "code",
   "execution_count": 44,
   "id": "3cfd92dc",
   "metadata": {},
   "outputs": [],
   "source": [
    "agg_donation=pd.DataFrame(agg_don)"
   ]
  },
  {
   "cell_type": "code",
   "execution_count": 56,
   "id": "09efdff3",
   "metadata": {},
   "outputs": [
    {
     "data": {
      "text/html": [
       "<div>\n",
       "<style scoped>\n",
       "    .dataframe tbody tr th:only-of-type {\n",
       "        vertical-align: middle;\n",
       "    }\n",
       "\n",
       "    .dataframe tbody tr th {\n",
       "        vertical-align: top;\n",
       "    }\n",
       "\n",
       "    .dataframe thead th {\n",
       "        text-align: right;\n",
       "    }\n",
       "</style>\n",
       "<table border=\"1\" class=\"dataframe\">\n",
       "  <thead>\n",
       "    <tr style=\"text-align: right;\">\n",
       "      <th></th>\n",
       "      <th></th>\n",
       "      <th>amount</th>\n",
       "    </tr>\n",
       "    <tr>\n",
       "      <th>member</th>\n",
       "      <th>timestamp</th>\n",
       "      <th></th>\n",
       "    </tr>\n",
       "  </thead>\n",
       "  <tbody>\n",
       "    <tr>\n",
       "      <th rowspan=\"5\" valign=\"top\">0.0</th>\n",
       "      <th>2015-03-30</th>\n",
       "      <td>25.0</td>\n",
       "    </tr>\n",
       "    <tr>\n",
       "      <th>2015-04-06</th>\n",
       "      <td>0.0</td>\n",
       "    </tr>\n",
       "    <tr>\n",
       "      <th>2015-04-13</th>\n",
       "      <td>0.0</td>\n",
       "    </tr>\n",
       "    <tr>\n",
       "      <th>2015-04-20</th>\n",
       "      <td>0.0</td>\n",
       "    </tr>\n",
       "    <tr>\n",
       "      <th>2015-04-27</th>\n",
       "      <td>0.0</td>\n",
       "    </tr>\n",
       "    <tr>\n",
       "      <th>...</th>\n",
       "      <th>...</th>\n",
       "      <td>...</td>\n",
       "    </tr>\n",
       "    <tr>\n",
       "      <th rowspan=\"4\" valign=\"top\">995.0</th>\n",
       "      <th>2017-09-11</th>\n",
       "      <td>0.0</td>\n",
       "    </tr>\n",
       "    <tr>\n",
       "      <th>2017-09-18</th>\n",
       "      <td>0.0</td>\n",
       "    </tr>\n",
       "    <tr>\n",
       "      <th>2017-09-25</th>\n",
       "      <td>0.0</td>\n",
       "    </tr>\n",
       "    <tr>\n",
       "      <th>2017-10-02</th>\n",
       "      <td>1000.0</td>\n",
       "    </tr>\n",
       "    <tr>\n",
       "      <th>998.0</th>\n",
       "      <th>2018-01-08</th>\n",
       "      <td>50.0</td>\n",
       "    </tr>\n",
       "  </tbody>\n",
       "</table>\n",
       "<p>32352 rows × 1 columns</p>\n",
       "</div>"
      ],
      "text/plain": [
       "                   amount\n",
       "member timestamp         \n",
       "0.0    2015-03-30    25.0\n",
       "       2015-04-06     0.0\n",
       "       2015-04-13     0.0\n",
       "       2015-04-20     0.0\n",
       "       2015-04-27     0.0\n",
       "...                   ...\n",
       "995.0  2017-09-11     0.0\n",
       "       2017-09-18     0.0\n",
       "       2017-09-25     0.0\n",
       "       2017-10-02  1000.0\n",
       "998.0  2018-01-08    50.0\n",
       "\n",
       "[32352 rows x 1 columns]"
      ]
     },
     "execution_count": 56,
     "metadata": {},
     "output_type": "execute_result"
    }
   ],
   "source": [
    "agg_donation"
   ]
  },
  {
   "cell_type": "markdown",
   "id": "3bf7091e",
   "metadata": {},
   "source": [
    "Получив выборки данных о взносах и работе с электронной почтой, имеющие одинаковую периодичность, объединим их."
   ]
  },
  {
   "cell_type": "code",
   "execution_count": 62,
   "id": "e700370c",
   "metadata": {},
   "outputs": [],
   "source": [
    "merged_df = pd.DataFrame()\n"
   ]
  },
  {
   "cell_type": "code",
   "execution_count": 63,
   "id": "65b7e4ea",
   "metadata": {},
   "outputs": [],
   "source": [
    "for member, member_email in all_email.groupby('member') :\n",
    "    member_donations = donations[donations.member == member]\n",
    "    #member_donations.set_index('timestamp', inplace = True)\n",
    "    member_email.set_index ('week', inplace = True)\n",
    "    member_email = all_email[all_email.member == member]\n",
    "    member_email.sort_values('week').set_index('week')\n",
    "    df = pd.merge(member_email, member_donations, how = 'left', left_index = True, right_index = True)\n",
    "    df.fillna(0)\n",
    "    df['member'] = df.member_x\n",
    "    merged_df = merged_df.append(df.reset_index()[['member', 'week', 'emailsOpened', 'amount']] )\n"
   ]
  },
  {
   "cell_type": "code",
   "execution_count": 66,
   "id": "ee4d9ec4",
   "metadata": {},
   "outputs": [
    {
     "data": {
      "text/html": [
       "<div>\n",
       "<style scoped>\n",
       "    .dataframe tbody tr th:only-of-type {\n",
       "        vertical-align: middle;\n",
       "    }\n",
       "\n",
       "    .dataframe tbody tr th {\n",
       "        vertical-align: top;\n",
       "    }\n",
       "\n",
       "    .dataframe thead th {\n",
       "        text-align: right;\n",
       "    }\n",
       "</style>\n",
       "<table border=\"1\" class=\"dataframe\">\n",
       "  <thead>\n",
       "    <tr style=\"text-align: right;\">\n",
       "      <th></th>\n",
       "      <th>week</th>\n",
       "      <th>emailsOpened</th>\n",
       "      <th>amount</th>\n",
       "      <th>target</th>\n",
       "    </tr>\n",
       "    <tr>\n",
       "      <th>member</th>\n",
       "      <th></th>\n",
       "      <th></th>\n",
       "      <th></th>\n",
       "      <th></th>\n",
       "    </tr>\n",
       "  </thead>\n",
       "  <tbody>\n",
       "    <tr>\n",
       "      <th>998.0</th>\n",
       "      <td>2017-12-04 00:00:00</td>\n",
       "      <td>1.0</td>\n",
       "      <td>0.0</td>\n",
       "      <td>0.0</td>\n",
       "    </tr>\n",
       "    <tr>\n",
       "      <th>998.0</th>\n",
       "      <td>2017-12-11 00:00:00</td>\n",
       "      <td>3.0</td>\n",
       "      <td>0.0</td>\n",
       "      <td>0.0</td>\n",
       "    </tr>\n",
       "    <tr>\n",
       "      <th>998.0</th>\n",
       "      <td>2017-12-18 00:00:00</td>\n",
       "      <td>3.0</td>\n",
       "      <td>0.0</td>\n",
       "      <td>0.0</td>\n",
       "    </tr>\n",
       "    <tr>\n",
       "      <th>998.0</th>\n",
       "      <td>2017-12-25 00:00:00</td>\n",
       "      <td>0.0</td>\n",
       "      <td>0.0</td>\n",
       "      <td>0.0</td>\n",
       "    </tr>\n",
       "    <tr>\n",
       "      <th>998.0</th>\n",
       "      <td>2018-01-01 00:00:00</td>\n",
       "      <td>3.0</td>\n",
       "      <td>0.0</td>\n",
       "      <td>0.0</td>\n",
       "    </tr>\n",
       "    <tr>\n",
       "      <th>998.0</th>\n",
       "      <td>2018-01-08 00:00:00</td>\n",
       "      <td>3.0</td>\n",
       "      <td>0.0</td>\n",
       "      <td>0.0</td>\n",
       "    </tr>\n",
       "    <tr>\n",
       "      <th>998.0</th>\n",
       "      <td>2018-01-15 00:00:00</td>\n",
       "      <td>2.0</td>\n",
       "      <td>0.0</td>\n",
       "      <td>0.0</td>\n",
       "    </tr>\n",
       "    <tr>\n",
       "      <th>998.0</th>\n",
       "      <td>2018-01-22 00:00:00</td>\n",
       "      <td>3.0</td>\n",
       "      <td>0.0</td>\n",
       "      <td>0.0</td>\n",
       "    </tr>\n",
       "    <tr>\n",
       "      <th>998.0</th>\n",
       "      <td>2018-01-29 00:00:00</td>\n",
       "      <td>2.0</td>\n",
       "      <td>0.0</td>\n",
       "      <td>0.0</td>\n",
       "    </tr>\n",
       "    <tr>\n",
       "      <th>998.0</th>\n",
       "      <td>2018-02-05 00:00:00</td>\n",
       "      <td>3.0</td>\n",
       "      <td>0.0</td>\n",
       "      <td>0.0</td>\n",
       "    </tr>\n",
       "    <tr>\n",
       "      <th>998.0</th>\n",
       "      <td>2018-02-12 00:00:00</td>\n",
       "      <td>3.0</td>\n",
       "      <td>0.0</td>\n",
       "      <td>0.0</td>\n",
       "    </tr>\n",
       "    <tr>\n",
       "      <th>998.0</th>\n",
       "      <td>2018-02-19 00:00:00</td>\n",
       "      <td>3.0</td>\n",
       "      <td>0.0</td>\n",
       "      <td>0.0</td>\n",
       "    </tr>\n",
       "    <tr>\n",
       "      <th>998.0</th>\n",
       "      <td>2018-02-26 00:00:00</td>\n",
       "      <td>2.0</td>\n",
       "      <td>0.0</td>\n",
       "      <td>0.0</td>\n",
       "    </tr>\n",
       "    <tr>\n",
       "      <th>998.0</th>\n",
       "      <td>2018-03-05 00:00:00</td>\n",
       "      <td>2.0</td>\n",
       "      <td>0.0</td>\n",
       "      <td>0.0</td>\n",
       "    </tr>\n",
       "    <tr>\n",
       "      <th>998.0</th>\n",
       "      <td>2018-03-12 00:00:00</td>\n",
       "      <td>3.0</td>\n",
       "      <td>0.0</td>\n",
       "      <td>0.0</td>\n",
       "    </tr>\n",
       "    <tr>\n",
       "      <th>998.0</th>\n",
       "      <td>2018-03-19 00:00:00</td>\n",
       "      <td>2.0</td>\n",
       "      <td>0.0</td>\n",
       "      <td>0.0</td>\n",
       "    </tr>\n",
       "    <tr>\n",
       "      <th>998.0</th>\n",
       "      <td>2018-03-26 00:00:00</td>\n",
       "      <td>2.0</td>\n",
       "      <td>0.0</td>\n",
       "      <td>0.0</td>\n",
       "    </tr>\n",
       "    <tr>\n",
       "      <th>998.0</th>\n",
       "      <td>2018-04-02 00:00:00</td>\n",
       "      <td>3.0</td>\n",
       "      <td>0.0</td>\n",
       "      <td>0.0</td>\n",
       "    </tr>\n",
       "    <tr>\n",
       "      <th>998.0</th>\n",
       "      <td>2018-04-09 00:00:00</td>\n",
       "      <td>3.0</td>\n",
       "      <td>0.0</td>\n",
       "      <td>0.0</td>\n",
       "    </tr>\n",
       "    <tr>\n",
       "      <th>998.0</th>\n",
       "      <td>2018-04-16 00:00:00</td>\n",
       "      <td>3.0</td>\n",
       "      <td>0.0</td>\n",
       "      <td>0.0</td>\n",
       "    </tr>\n",
       "    <tr>\n",
       "      <th>998.0</th>\n",
       "      <td>2018-04-23 00:00:00</td>\n",
       "      <td>0.0</td>\n",
       "      <td>0.0</td>\n",
       "      <td>0.0</td>\n",
       "    </tr>\n",
       "    <tr>\n",
       "      <th>998.0</th>\n",
       "      <td>2018-04-30 00:00:00</td>\n",
       "      <td>3.0</td>\n",
       "      <td>0.0</td>\n",
       "      <td>0.0</td>\n",
       "    </tr>\n",
       "    <tr>\n",
       "      <th>998.0</th>\n",
       "      <td>2018-05-07 00:00:00</td>\n",
       "      <td>3.0</td>\n",
       "      <td>0.0</td>\n",
       "      <td>0.0</td>\n",
       "    </tr>\n",
       "    <tr>\n",
       "      <th>998.0</th>\n",
       "      <td>2018-05-14 00:00:00</td>\n",
       "      <td>3.0</td>\n",
       "      <td>0.0</td>\n",
       "      <td>0.0</td>\n",
       "    </tr>\n",
       "    <tr>\n",
       "      <th>998.0</th>\n",
       "      <td>2018-05-21 00:00:00</td>\n",
       "      <td>3.0</td>\n",
       "      <td>0.0</td>\n",
       "      <td>0.0</td>\n",
       "    </tr>\n",
       "    <tr>\n",
       "      <th>998.0</th>\n",
       "      <td>2018-05-28 00:00:00</td>\n",
       "      <td>3.0</td>\n",
       "      <td>0.0</td>\n",
       "      <td>0.0</td>\n",
       "    </tr>\n",
       "  </tbody>\n",
       "</table>\n",
       "</div>"
      ],
      "text/plain": [
       "                       week  emailsOpened  amount  target\n",
       "member                                                   \n",
       "998.0   2017-12-04 00:00:00           1.0     0.0     0.0\n",
       "998.0   2017-12-11 00:00:00           3.0     0.0     0.0\n",
       "998.0   2017-12-18 00:00:00           3.0     0.0     0.0\n",
       "998.0   2017-12-25 00:00:00           0.0     0.0     0.0\n",
       "998.0   2018-01-01 00:00:00           3.0     0.0     0.0\n",
       "998.0   2018-01-08 00:00:00           3.0     0.0     0.0\n",
       "998.0   2018-01-15 00:00:00           2.0     0.0     0.0\n",
       "998.0   2018-01-22 00:00:00           3.0     0.0     0.0\n",
       "998.0   2018-01-29 00:00:00           2.0     0.0     0.0\n",
       "998.0   2018-02-05 00:00:00           3.0     0.0     0.0\n",
       "998.0   2018-02-12 00:00:00           3.0     0.0     0.0\n",
       "998.0   2018-02-19 00:00:00           3.0     0.0     0.0\n",
       "998.0   2018-02-26 00:00:00           2.0     0.0     0.0\n",
       "998.0   2018-03-05 00:00:00           2.0     0.0     0.0\n",
       "998.0   2018-03-12 00:00:00           3.0     0.0     0.0\n",
       "998.0   2018-03-19 00:00:00           2.0     0.0     0.0\n",
       "998.0   2018-03-26 00:00:00           2.0     0.0     0.0\n",
       "998.0   2018-04-02 00:00:00           3.0     0.0     0.0\n",
       "998.0   2018-04-09 00:00:00           3.0     0.0     0.0\n",
       "998.0   2018-04-16 00:00:00           3.0     0.0     0.0\n",
       "998.0   2018-04-23 00:00:00           0.0     0.0     0.0\n",
       "998.0   2018-04-30 00:00:00           3.0     0.0     0.0\n",
       "998.0   2018-05-07 00:00:00           3.0     0.0     0.0\n",
       "998.0   2018-05-14 00:00:00           3.0     0.0     0.0\n",
       "998.0   2018-05-21 00:00:00           3.0     0.0     0.0\n",
       "998.0   2018-05-28 00:00:00           3.0     0.0     0.0"
      ]
     },
     "execution_count": 66,
     "metadata": {},
     "output_type": "execute_result"
    }
   ],
   "source": [
    "df = merged_df[merged_df.member == 998]\n",
    "df['target'] = df.amount.shift(1)\n",
    "df = df.fillna(0)\n",
    "df.set_index('member', inplace = True)\n",
    "df.sort_values('week')\n"
   ]
  },
  {
   "cell_type": "markdown",
   "id": "e022b62e",
   "metadata": {},
   "source": [
    "Итак, после учета пропущенных строк данные члена организации с идентификатором 998 стали насчитывать 26 строк. Набор данных стал полным и очистился от ненужной информации."
   ]
  },
  {
   "cell_type": "markdown",
   "id": "62c4382b",
   "metadata": {},
   "source": [
    "**Часовые пояса**"
   ]
  },
  {
   "cell_type": "code",
   "execution_count": 2,
   "id": "ea1e0e79",
   "metadata": {},
   "outputs": [
    {
     "data": {
      "text/plain": [
       "datetime.datetime(2018, 5, 31, 14, 51, 35, 601355, tzinfo=datetime.timezone.utc)"
      ]
     },
     "execution_count": 2,
     "metadata": {},
     "output_type": "execute_result"
    }
   ],
   "source": [
    "import datetime\n",
    "datetime.datetime.utcnow()\n",
    "datetime.datetime(2018, 5, 31, 14, 49, 43, 187680)\n",
    "datetime.datetime.now()\n",
    "datetime.datetime(2018, 5, 31, 10, 49, 59, 984947)\n",
    "# Компьютер не возвращает время в формате UTC,\n",
    "# хотя часовой пояс не указан\n",
    "datetime.datetime.now (datetime. timezone.utc)\n",
    "datetime.datetime(2018, 5, 31, 14, 51, 35, 601355,\n",
    "tzinfo=datetime.timezone.utc)\n"
   ]
  },
  {
   "cell_type": "markdown",
   "id": "b4031b86",
   "metadata": {},
   "source": [
    "Чтобы получить правильный результат, достаточно перейти к формату с указанием часового пояса, но это нестандартное поведение. Для управления часовыми поясами в языке Python создается объект часового пояса, например western, представляющий тихоокеанский часовой пояс США.\n"
   ]
  },
  {
   "cell_type": "code",
   "execution_count": 4,
   "id": "59dbf07e",
   "metadata": {},
   "outputs": [
    {
     "data": {
      "text/plain": [
       "'US/Pacific'"
      ]
     },
     "execution_count": 4,
     "metadata": {},
     "output_type": "execute_result"
    }
   ],
   "source": [
    "import pytz\n",
    "western = pytz.timezone('US/Pacific')\n",
    "western.zone\n"
   ]
  },
  {
   "cell_type": "code",
   "execution_count": 10,
   "id": "f6729717",
   "metadata": {},
   "outputs": [
    {
     "data": {
      "text/plain": [
       "datetime.datetime(2018, 5, 15, 20, 34, tzinfo=<DstTzInfo 'Europe/London' BST+1:00:00 DST>)"
      ]
     },
     "execution_count": 10,
     "metadata": {},
     "output_type": "execute_result"
    }
   ],
   "source": [
    "loc_dt = western.localize(datetime.datetime(2018, 5, 15, 12, 34, 0))\n",
    "london_dt = pytz.timezone('Europe/London')\n",
    "london_dt = loc_dt.astimezone(london_tz)\n",
    "london_dt\n"
   ]
  },
  {
   "cell_type": "markdown",
   "id": "4ee396af",
   "metadata": {},
   "source": [
    "Однако не забывайте, что передача часового пояса непосредственно в конструктор datetime() часто приводит к совершенно неожиданному результату.\n"
   ]
  },
  {
   "cell_type": "code",
   "execution_count": 12,
   "id": "d561eeb7",
   "metadata": {},
   "outputs": [
    {
     "data": {
      "text/plain": [
       "datetime.timedelta(days=1, seconds=17520)"
      ]
     },
     "execution_count": 12,
     "metadata": {},
     "output_type": "execute_result"
    }
   ],
   "source": [
    "# Как правило, данные времени хранятся в формате UTC\n",
    "# и преобразовываются в другие форматы только при выводе\n",
    "# для изучения людьми. Кроме того, к часовым поясам часто\n",
    "# применяются арифметические операции\n",
    "event1 = datetime.datetime(2018, 5, 12, 12, 15, 0, tzinfo = london_tz)\n",
    "event2 = datetime.datetime (2018, 5, 13, 9, 15, 0,tzinfo = western)\n",
    "event2 - event1\n",
    "\n"
   ]
  },
  {
   "cell_type": "code",
   "execution_count": 14,
   "id": "30aedd66",
   "metadata": {},
   "outputs": [
    {
     "data": {
      "text/plain": [
       "datetime.timedelta(days=1, seconds=14340)"
      ]
     },
     "execution_count": 14,
     "metadata": {},
     "output_type": "execute_result"
    }
   ],
   "source": [
    "## Разница между моментами времени определяется неправильно,\n",
    "## поскольку часовые пояса помечены не так, как нужно\n",
    "eventl = london_tz.localize(datetime.datetime(2018, 5, 12, 12, 15, 0))\n",
    "event2 = western.localize(datetime.datetime(2018, 5, 13, 9, 15, 0))\n",
    "event2 - event1"
   ]
  },
  {
   "cell_type": "code",
   "execution_count": 15,
   "id": "9036559d",
   "metadata": {},
   "outputs": [
    {
     "data": {
      "text/plain": [
       "datetime.timedelta(days=1, seconds=18000)"
      ]
     },
     "execution_count": 15,
     "metadata": {},
     "output_type": "execute_result"
    }
   ],
   "source": [
    "event1 = london_tz.localize((datetime.datetime(2018, 5, 12, 12, 15, 0))).astimezone(datetime.timezone.utc)\n",
    "event2 = western.localize(datetime.datetime(2018, 5, 13, 9, 15, 0)).astimezone(datetime.timezone.utc)\n",
    "event2 - event1"
   ]
  },
  {
   "cell_type": "markdown",
   "id": "5270631a",
   "metadata": {},
   "source": [
    "Библиотека pytz включает списки наиболее распространенных часовых поясов и часовых поясов разных стран мира."
   ]
  },
  {
   "cell_type": "code",
   "execution_count": 18,
   "id": "cf0dfedc",
   "metadata": {},
   "outputs": [
    {
     "data": {
      "text/plain": [
       "['Europe/Kaliningrad',\n",
       " 'Europe/Moscow',\n",
       " 'Europe/Kirov',\n",
       " 'Europe/Volgograd',\n",
       " 'Europe/Astrakhan',\n",
       " 'Europe/Saratov',\n",
       " 'Europe/Ulyanovsk',\n",
       " 'Europe/Samara',\n",
       " 'Asia/Yekaterinburg',\n",
       " 'Asia/Omsk',\n",
       " 'Asia/Novosibirsk',\n",
       " 'Asia/Barnaul',\n",
       " 'Asia/Tomsk',\n",
       " 'Asia/Novokuznetsk',\n",
       " 'Asia/Krasnoyarsk',\n",
       " 'Asia/Irkutsk',\n",
       " 'Asia/Chita',\n",
       " 'Asia/Yakutsk',\n",
       " 'Asia/Khandyga',\n",
       " 'Asia/Vladivostok',\n",
       " 'Asia/Ust-Nera',\n",
       " 'Asia/Magadan',\n",
       " 'Asia/Sakhalin',\n",
       " 'Asia/Srednekolymsk',\n",
       " 'Asia/Kamchatka',\n",
       " 'Asia/Anadyr']"
      ]
     },
     "execution_count": 18,
     "metadata": {},
     "output_type": "execute_result"
    }
   ],
   "source": [
    "## Ознакомьтесь основными часовыми поясами pytz.common_timezones\n",
    "pytz.common_timezones\n",
    "\n",
    "## или часовыми поясами стран мира\n",
    "\n",
    "\n",
    "pytz.country_timezones('eu')\n"
   ]
  },
  {
   "cell_type": "markdown",
   "id": "69a4e82b",
   "metadata": {},
   "source": [
    "Особенно проблематичным является вопрос учета летнего времени. Некоторые используемые человечеством форматы времени учитываются компьютером дважды (возврат к “зимнему” времени осенью), тогда как другие вообще не учитываются (перевод времени вперед весной)."
   ]
  },
  {
   "cell_type": "code",
   "execution_count": 20,
   "id": "9a3ece3c",
   "metadata": {},
   "outputs": [
    {
     "data": {
      "text/plain": [
       "datetime.datetime(2002, 10, 27, 1, 30, tzinfo=<DstTzInfo 'US/Pacific' PDT-1 day, 17:00:00 DST>)"
      ]
     },
     "execution_count": 20,
     "metadata": {},
     "output_type": "execute_result"
    }
   ],
   "source": [
    "## Часовые пояса\n",
    "ambig_time = western.localize(datetime.datetime(2002, 10, 27, 1, 30, 00)).astimezone(datetime.timezone.utc)\n",
    "ambig_time_earlier = ambig_time - datetime.timedelta(hours=1)\n",
    "ambig_time_later = ambig_time + datetime.timedelta(hours=1)\n",
    "ambig_time_earlier.astimezone(western)\n",
    "\n"
   ]
  },
  {
   "cell_type": "code",
   "execution_count": 21,
   "id": "22ef8001",
   "metadata": {},
   "outputs": [
    {
     "data": {
      "text/plain": [
       "datetime.datetime(2002, 10, 27, 1, 30, tzinfo=<DstTzInfo 'US/Pacific' PST-1 day, 16:00:00 STD>)"
      ]
     },
     "execution_count": 21,
     "metadata": {},
     "output_type": "execute_result"
    }
   ],
   "source": [
    "ambig_time.astimezone (western)"
   ]
  },
  {
   "cell_type": "code",
   "execution_count": 22,
   "id": "c741caf7",
   "metadata": {},
   "outputs": [
    {
     "data": {
      "text/plain": [
       "datetime.datetime(2002, 10, 27, 2, 30, tzinfo=<DstTzInfo 'US/Pacific' PST-1 day, 16:00:00 STD>)"
      ]
     },
     "execution_count": 22,
     "metadata": {},
     "output_type": "execute_result"
    }
   ],
   "source": [
    "ambig_time_later.astimezone (western)"
   ]
  },
  {
   "cell_type": "code",
   "execution_count": 26,
   "id": "dac41466",
   "metadata": {},
   "outputs": [
    {
     "data": {
      "text/plain": [
       "datetime.datetime(2002, 10, 27, 0, 30, tzinfo=<DstTzInfo 'US/Pacific' PDT-1 day, 17:00:00 DST>)"
      ]
     },
     "execution_count": 26,
     "metadata": {},
     "output_type": "execute_result"
    }
   ],
   "source": [
    "# Последние две временные метки идентичны - это недопустимо!\n",
    "## В данном случае необходимо использовать параметр is_dst, чтобы\n",
    "## обозначить переход на летнее время\n",
    "ambig_time = western.localize(datetime.datetime(2002, 10, 27, 1, 30, 00), is_dst = True).astimezone(datetime.timezone.utc)\n",
    "ambig_time_earlier = ambig_time - datetime.timedelta (hours=1)\n",
    "ambig_time_later = ambig_time + datetime.timedelta(hours=1)\n",
    "ambig_time_earlier.astimezone(western)\n",
    "\n"
   ]
  },
  {
   "cell_type": "code",
   "execution_count": 27,
   "id": "320992f3",
   "metadata": {},
   "outputs": [
    {
     "data": {
      "text/plain": [
       "datetime.datetime(2002, 10, 27, 1, 30, tzinfo=<DstTzInfo 'US/Pacific' PDT-1 day, 17:00:00 DST>)"
      ]
     },
     "execution_count": 27,
     "metadata": {},
     "output_type": "execute_result"
    }
   ],
   "source": [
    "ambig_time.astimezone (western)\n"
   ]
  },
  {
   "cell_type": "code",
   "execution_count": 28,
   "id": "6ee52c0b",
   "metadata": {},
   "outputs": [
    {
     "data": {
      "text/plain": [
       "datetime.datetime(2002, 10, 27, 1, 30, tzinfo=<DstTzInfo 'US/Pacific' PST-1 day, 16:00:00 STD>)"
      ]
     },
     "execution_count": 28,
     "metadata": {},
     "output_type": "execute_result"
    }
   ],
   "source": [
    "\n",
    "ambig_time_later.astimezone(western)"
   ]
  },
  {
   "cell_type": "markdown",
   "id": "d863c6db",
   "metadata": {},
   "source": [
    "Трудности учета часового пояса могут не касаться решаемых вами задач, поэтому полезность приведенных выше сведений будет зависеть от характера обрабатываемых данных. "
   ]
  }
 ],
 "metadata": {
  "kernelspec": {
   "display_name": "Python 3 (ipykernel)",
   "language": "python",
   "name": "python3"
  },
  "language_info": {
   "codemirror_mode": {
    "name": "ipython",
    "version": 3
   },
   "file_extension": ".py",
   "mimetype": "text/x-python",
   "name": "python",
   "nbconvert_exporter": "python",
   "pygments_lexer": "ipython3",
   "version": "3.11.5"
  }
 },
 "nbformat": 4,
 "nbformat_minor": 5
}
